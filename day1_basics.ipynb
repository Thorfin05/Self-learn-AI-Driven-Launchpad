{
  "nbformat": 4,
  "nbformat_minor": 0,
  "metadata": {
    "colab": {
      "provenance": []
    },
    "kernelspec": {
      "name": "python3",
      "display_name": "Python 3"
    },
    "language_info": {
      "name": "python"
    }
  },
  "cells": [
    {
      "cell_type": "code",
      "execution_count": 1,
      "metadata": {
        "colab": {
          "base_uri": "https://localhost:8080/"
        },
        "id": "ZtDCWGhc0BT_",
        "outputId": "2f79c3aa-51ef-429e-8dff-4f9ae9902a66"
      },
      "outputs": [
        {
          "output_type": "stream",
          "name": "stdout",
          "text": [
            "Enter a number: 5\n",
            "Prime\n"
          ]
        }
      ],
      "source": [
        "num = int(input(\"Enter a number: \"))\n",
        "is_prime = True\n",
        "\n",
        "for i in range(2, int(num ** 0.5) + 1):\n",
        "    if num % i == 0:\n",
        "        is_prime = False\n",
        "        break\n",
        "\n",
        "if is_prime and num > 1:\n",
        "    print(\"Prime\")\n",
        "else:\n",
        "    print(\"Not Prime\")\n"
      ]
    },
    {
      "cell_type": "code",
      "source": [
        "fruits = [\"Apple\", \"Banana\", \"Mango\", \"Orange\", \"Grapes\"]\n",
        "print(\"2nd fruit:\", fruits[1])\n",
        "print(\"4th fruit:\", fruits[3])\n"
      ],
      "metadata": {
        "colab": {
          "base_uri": "https://localhost:8080/"
        },
        "id": "pllg7bSY0Zkw",
        "outputId": "b3be8e8c-d9fd-43d0-a7cc-dc1b37c8b6b8"
      },
      "execution_count": 2,
      "outputs": [
        {
          "output_type": "stream",
          "name": "stdout",
          "text": [
            "2nd fruit: Banana\n",
            "4th fruit: Orange\n"
          ]
        }
      ]
    },
    {
      "cell_type": "code",
      "source": [
        "for i in range(1, 6):\n",
        "    print(\"#\" * i)\n"
      ],
      "metadata": {
        "colab": {
          "base_uri": "https://localhost:8080/"
        },
        "id": "XxK0CE_b0o0G",
        "outputId": "7953a490-b0c0-4d88-b29b-d35d412764b7"
      },
      "execution_count": 3,
      "outputs": [
        {
          "output_type": "stream",
          "name": "stdout",
          "text": [
            "#\n",
            "##\n",
            "###\n",
            "####\n",
            "#####\n"
          ]
        }
      ]
    }
  ]
}