{
  "nbformat": 4,
  "nbformat_minor": 0,
  "metadata": {
    "colab": {
      "provenance": []
    },
    "kernelspec": {
      "name": "python3",
      "display_name": "Python 3"
    },
    "language_info": {
      "name": "python"
    }
  },
  "cells": [
    {
      "cell_type": "code",
      "execution_count": 6,
      "metadata": {
        "colab": {
          "base_uri": "https://localhost:8080/"
        },
        "id": "hXJDIJS4JlqN",
        "outputId": "b9947894-a8e0-410a-c14b-6d8cf0fb8d0a"
      },
      "outputs": [
        {
          "output_type": "stream",
          "name": "stdout",
          "text": [
            "Enter first number: 3\n",
            "Enter second number:4\n",
            "7\n"
          ]
        }
      ],
      "source": [
        "def add(a,b):\n",
        "  return a+b\n",
        "\n",
        "a = int(input(\"Enter first number: \"))\n",
        "b = int(input(\"Enter second number:\"))\n",
        "print(add(a,b))"
      ]
    },
    {
      "cell_type": "code",
      "source": [
        "def is_palindrome(s):\n",
        "    return s == s[::-1]\n",
        "s = input(\"Enter a string: \")\n",
        "print(is_palindrome(s))"
      ],
      "metadata": {
        "colab": {
          "base_uri": "https://localhost:8080/"
        },
        "id": "m02T5CJ0KX1P",
        "outputId": "26172d32-5f16-4bd2-c90b-3814c89b6be2"
      },
      "execution_count": 8,
      "outputs": [
        {
          "output_type": "stream",
          "name": "stdout",
          "text": [
            "Enter a string: Chennai\n",
            "False\n"
          ]
        }
      ]
    },
    {
      "cell_type": "code",
      "source": [
        "students = {}\n",
        "\n",
        "def add_student():\n",
        "    name = input(\"Enter student name: \")\n",
        "    math = int(input(\"Math marks: \"))\n",
        "    eng = int(input(\"English marks: \"))\n",
        "    sci = int(input(\"Science marks: \"))\n",
        "    students[name] = {\"Math\": math, \"English\": eng, \"Science\": sci}\n",
        "    print(f\"{name}'s report added.\\n\")\n",
        "\n",
        "def view_report():\n",
        "    name = input(\"Enter student name to view: \")\n",
        "    if name in students:\n",
        "        report = students[name]\n",
        "        total = sum(report.values())\n",
        "        avg = total / 3\n",
        "        print(f\"\\nReport Card for {name}:\")\n",
        "        for subject, marks in report.items():\n",
        "            print(f\"{subject}: {marks}\")\n",
        "        print(f\"Total: {total} | Average: {avg:.2f}\\n\")\n",
        "    else:\n",
        "        print(\"Student not found.\\n\")\n",
        "\n",
        "def update_marks():\n",
        "    name = input(\"Enter student name to update: \")\n",
        "    if name in students:\n",
        "        subject = input(\"Enter subject to update (Math/English/Science): \")\n",
        "        if subject in students[name]:\n",
        "            new_marks = int(input(f\"Enter new marks for {subject}: \"))\n",
        "            students[name][subject] = new_marks\n",
        "            print(f\"{subject} marks updated for {name}.\\n\")\n",
        "        else:\n",
        "            print(\"Invalid subject.\\n\")\n",
        "    else:\n",
        "        print(\"Student not found.\\n\")\n",
        "\n",
        "# Main Menu\n",
        "while True:\n",
        "    print(\"1. Add Student\\n2. View Report\\n3. Update Marks\\n4. Exit\")\n",
        "    choice = input(\"Choose an option (1-4): \")\n",
        "\n",
        "    if choice == '1':\n",
        "        add_student()\n",
        "    elif choice == '2':\n",
        "        view_report()\n",
        "    elif choice == '3':\n",
        "        update_marks()\n",
        "    elif choice == '4':\n",
        "        print(\"Exiting program.\")\n",
        "        break\n",
        "    else:\n",
        "        print(\"Invalid option.\\n\")\n"
      ],
      "metadata": {
        "colab": {
          "base_uri": "https://localhost:8080/"
        },
        "id": "LHL-tKj9MT3X",
        "outputId": "70841b50-3fd9-40d8-d62b-6e7fd8c48b6d"
      },
      "execution_count": 10,
      "outputs": [
        {
          "output_type": "stream",
          "name": "stdout",
          "text": [
            "1. Add Student\n",
            "2. View Report\n",
            "3. Update Marks\n",
            "4. Exit\n",
            "Choose an option (1-4): 1\n",
            "Enter student name: Nir\n",
            "Math marks: 80\n",
            "English marks: 95\n",
            "Science marks: 90\n",
            "Nir's report added.\n",
            "\n",
            "1. Add Student\n",
            "2. View Report\n",
            "3. Update Marks\n",
            "4. Exit\n",
            "Choose an option (1-4): 2\n",
            "Enter student name to view: Nir\n",
            "\n",
            "Report Card for Nir:\n",
            "Math: 80\n",
            "English: 95\n",
            "Science: 90\n",
            "Total: 265 | Average: 88.33\n",
            "\n",
            "1. Add Student\n",
            "2. View Report\n",
            "3. Update Marks\n",
            "4. Exit\n",
            "Choose an option (1-4): 4\n",
            "Exiting program.\n"
          ]
        }
      ]
    },
    {
      "cell_type": "code",
      "source": [
        "def add(a, b): return a + b\n",
        "def sub(a, b): return a - b\n",
        "def mul(a, b): return a * b\n",
        "def div(a, b): return a / b if b != 0 else \"Cannot divide by zero\"\n",
        "\n",
        "while True:\n",
        "    print(\"\\nOptions: +, -, *, /, q(quit)\")\n",
        "    choice = input(\"Enter operation: \")\n",
        "\n",
        "    if choice == 'q':\n",
        "        break\n",
        "\n",
        "    x = float(input(\"Enter 1st number: \"))\n",
        "    y = float(input(\"Enter 2nd number: \"))\n",
        "\n",
        "    if choice == '+':\n",
        "        print(\"Result:\", add(x, y))\n",
        "    elif choice == '-':\n",
        "        print(\"Result:\", sub(x, y))\n",
        "    elif choice == '*':\n",
        "        print(\"Result:\", mul(x, y))\n",
        "    elif choice == '/':\n",
        "        print(\"Result:\", div(x, y))\n",
        "    else:\n",
        "        print(\"Invalid operation\")\n"
      ],
      "metadata": {
        "colab": {
          "base_uri": "https://localhost:8080/"
        },
        "id": "TJsbablbYcRl",
        "outputId": "00246a7b-ff1a-4261-991f-34669242c37e"
      },
      "execution_count": 11,
      "outputs": [
        {
          "name": "stdout",
          "output_type": "stream",
          "text": [
            "\n",
            "Options: +, -, *, /, q(quit)\n",
            "Enter operation: +\n",
            "Enter 1st number: 2\n",
            "Enter 2nd number: 3\n",
            "Result: 5.0\n",
            "\n",
            "Options: +, -, *, /, q(quit)\n",
            "Enter operation: q\n"
          ]
        }
      ]
    }
  ]
}